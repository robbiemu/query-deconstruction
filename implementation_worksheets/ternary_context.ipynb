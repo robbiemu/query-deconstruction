{
 "cells": [
  {
   "cell_type": "code",
   "execution_count": 1,
   "metadata": {},
   "outputs": [],
   "source": [
    "from typing import Sequence, TypedDict\n",
    "from langgraph.graph import StateGraph\n",
    "from langchain_core.messages import AnyMessage, AIMessage, HumanMessage, SystemMessage\n",
    "import yaml"
   ]
  },
  {
   "cell_type": "code",
   "execution_count": 2,
   "metadata": {},
   "outputs": [],
   "source": [
    "from langchain_ollama import ChatOllama\n",
    "\n",
    "llm = ChatOllama(\n",
    "    model = \"mistral-small:22b-instruct-2409-q6_K\",\n",
    "    #model = \"qwen2.5:32b-instruct-q6_K\",\n",
    "    temperature = 0.8,\n",
    "    num_ctx=8192,\n",
    "    num_predict = 4098,\n",
    ")"
   ]
  },
  {
   "cell_type": "code",
   "execution_count": 3,
   "metadata": {},
   "outputs": [
    {
     "name": "stdout",
     "output_type": "stream",
     "text": [
      "{'messages': [HumanMessage(content='I am interested in birds, wind, skies, and evolution.', additional_kwargs={}, response_metadata={}), AIMessage(content=' **Project Proposal: Feathers of Time**\\n\\n**Artist\\'s Statement:**\\nMy fascination with birds, wind, skies, and evolution has led me to conceive a multidisciplinary art project titled \"Feathers of Time.\" This project aims to explore the intricate relationship between these elements through an immersive installation that combines sculpture, painting, sound art, and interactive elements.\\n\\n**Project Description:**\\n\\n1. **Sculptural Installation - \"Winds of Change\":**\\n   The centerpiece of the project will be a large-scale sculptural installation representing the evolution of birds over time. Utilizing various materials like metal, glass, and resin, I will create a series of stylized bird forms suspended from the ceiling, appearing to soar through the air. Each bird will represent a different stage in avian evolution, from early ancestors like *Archaeopteryx* to modern species.\\n\\n2. **Painting Series - \"Sky Echoes\":**\\n   To complement the sculptural installation, I propose a series of paintings that capture the ephemeral beauty of skies and winds. These works will employ a range of techniques, from traditional oil painting to mixed media incorporating found materials like feathers and sand. The goal is to evoke the transient nature of our environment and the constant interplay between wind, sky, and life forms.\\n\\n3. **Sound Art - \"Whispers in the Wind\":**\\n   In collaboration with a sound artist, I plan to create an ambient soundscape that immerses visitors in the experience of wind through different landscapes and seasons. This audio component will enhance the installation\\'s atmosphere, allowing viewers to feel surrounded by the same forces shaping our world and its inhabitants.\\n\\n4. **Interactive Element - \"Evolutionary Journey\":**\\n   To engage audiences further, I propose an interactive station where visitors can learn about avian evolution and climate change through touchscreen displays and augmented reality (AR) experiences. This component will provide educational context while encouraging viewers to reflect on their role in preserving biodiversity.\\n\\n**Timeline:**\\n- Research and planning: 3 months\\n- Sculpture fabrication: 6 months\\n- Painting series creation: 4 months\\n- Sound art development: 2 months (concurrent with sculpture fabrication)\\n- Interactive element design: 1 month\\n- Installation setup: 1 month\\n- Opening event and exhibition run: 3 months\\n\\n**Budget:**\\nThe project will require funding for materials, artist fees, collaborator stipends, equipment rentals, venue costs, marketing, and documentation. A detailed budget breakdown will be provided upon request.\\n\\n**Target Venue:**\\nAn ideal venue would be a contemporary art museum or gallery with high ceilings and ample space to accommodate the sculptural installation and other components. I am open to adapting the project for different settings as needed.\\n\\nBy combining my passion for birds, wind, skies, and evolution with various artistic disciplines, \"Feathers of Time\" aims to create a thought-provoking and emotionally resonant experience that fosters appreciation for our natural world and its complex history.', additional_kwargs={}, response_metadata={'model': 'mistral-small:22b-instruct-2409-q6_K', 'created_at': '2024-09-23T17:00:18.195809Z', 'message': {'role': 'assistant', 'content': ''}, 'done_reason': 'stop', 'done': True, 'total_duration': 61603337709, 'load_duration': 3801334, 'prompt_eval_count': 54, 'prompt_eval_duration': 413793000, 'eval_count': 697, 'eval_duration': 61182467000}, id='run-4e0afc77-8df1-41f1-9bcc-24ff87de7eed-0', usage_metadata={'input_tokens': 54, 'output_tokens': 697, 'total_tokens': 751})], 'context': None}\n",
      " **Project Proposal: Feathers of Time**\n",
      "\n",
      "**Artist's Statement:**\n",
      "My fascination with birds, wind, skies, and evolution has led me to conceive a multidisciplinary art project titled \"Feathers of Time.\" This project aims to explore the intricate relationship between these elements through an immersive installation that combines sculpture, painting, sound art, and interactive elements.\n",
      "\n",
      "**Project Description:**\n",
      "\n",
      "1. **Sculptural Installation - \"Winds of Change\":**\n",
      "   The centerpiece of the project will be a large-scale sculptural installation representing the evolution of birds over time. Utilizing various materials like metal, glass, and resin, I will create a series of stylized bird forms suspended from the ceiling, appearing to soar through the air. Each bird will represent a different stage in avian evolution, from early ancestors like *Archaeopteryx* to modern species.\n",
      "\n",
      "2. **Painting Series - \"Sky Echoes\":**\n",
      "   To complement the sculptural installation, I propose a series of paintings that capture the ephemeral beauty of skies and winds. These works will employ a range of techniques, from traditional oil painting to mixed media incorporating found materials like feathers and sand. The goal is to evoke the transient nature of our environment and the constant interplay between wind, sky, and life forms.\n",
      "\n",
      "3. **Sound Art - \"Whispers in the Wind\":**\n",
      "   In collaboration with a sound artist, I plan to create an ambient soundscape that immerses visitors in the experience of wind through different landscapes and seasons. This audio component will enhance the installation's atmosphere, allowing viewers to feel surrounded by the same forces shaping our world and its inhabitants.\n",
      "\n",
      "4. **Interactive Element - \"Evolutionary Journey\":**\n",
      "   To engage audiences further, I propose an interactive station where visitors can learn about avian evolution and climate change through touchscreen displays and augmented reality (AR) experiences. This component will provide educational context while encouraging viewers to reflect on their role in preserving biodiversity.\n",
      "\n",
      "**Timeline:**\n",
      "- Research and planning: 3 months\n",
      "- Sculpture fabrication: 6 months\n",
      "- Painting series creation: 4 months\n",
      "- Sound art development: 2 months (concurrent with sculpture fabrication)\n",
      "- Interactive element design: 1 month\n",
      "- Installation setup: 1 month\n",
      "- Opening event and exhibition run: 3 months\n",
      "\n",
      "**Budget:**\n",
      "The project will require funding for materials, artist fees, collaborator stipends, equipment rentals, venue costs, marketing, and documentation. A detailed budget breakdown will be provided upon request.\n",
      "\n",
      "**Target Venue:**\n",
      "An ideal venue would be a contemporary art museum or gallery with high ceilings and ample space to accommodate the sculptural installation and other components. I am open to adapting the project for different settings as needed.\n",
      "\n",
      "By combining my passion for birds, wind, skies, and evolution with various artistic disciplines, \"Feathers of Time\" aims to create a thought-provoking and emotionally resonant experience that fosters appreciation for our natural world and its complex history.\n"
     ]
    }
   ],
   "source": [
    "type Messages = Sequence[AnyMessage]\n",
    "\n",
    "class Context(TypedDict):\n",
    "  details: str\n",
    "\n",
    "class State(TypedDict):\n",
    "  messages: Sequence[AnyMessage]\n",
    "  context: Context\n",
    "\n",
    "pre_sys = SystemMessage(content=\"You are an agent tasked with providing inspiration to an artist. When the artist describes their request, respond with the first topic derrived from it as context for their continued work. Summarize, rephrase, make conceptual leaps. Do not describe the aritst, only a contextualized, realized topic. You MUST NOT simply repeat their request; you must put it in your own words.\")\n",
    "\n",
    "def pre(state: State) -> State:\n",
    "  messages = [pre_sys] + state[\"messages\"]\n",
    "  context = llm.with_structured_output(Context).invoke(messages)\n",
    "\n",
    "  return { \"context\": context }\n",
    "\n",
    "post_sys = SystemMessage(content=\"You are an artist preparing to embark on a large project. Use the provided context to create a proposal for your project.\")\n",
    "\n",
    "def post(state: State) -> State:\n",
    "  context = AIMessage(\n",
    "    content=\"Context:\\n\" + yaml.dump(state[\"context\"], sort_keys=False, \n",
    "                      default_flow_style=False), \n",
    "    label=\"context\")\n",
    "  messages = [post_sys, context] + state[\"messages\"]\n",
    "\n",
    "  res = llm.invoke(messages)\n",
    "  return { \"messages\": state[\"messages\"] + [res] }\n",
    "\n",
    "\n",
    "graph_builder = StateGraph(State)\n",
    "graph_builder.add_node(\"pre\", pre)\n",
    "graph_builder.add_node(\"post\", post)\n",
    "\n",
    "graph_builder.add_edge(\"pre\", \"post\")\n",
    "graph_builder.set_entry_point(\"pre\")\n",
    "\n",
    "graph = graph_builder.compile()\n",
    "\n",
    "output = graph.invoke({ \"messages\": [HumanMessage(content=\"I am interested in birds, wind, skies, and evolution.\")] })\n",
    "print(output)\n",
    "print(output[\"messages\"][-1].content)"
   ]
  }
 ],
 "metadata": {
  "kernelspec": {
   "display_name": "venv",
   "language": "python",
   "name": "python3"
  },
  "language_info": {
   "codemirror_mode": {
    "name": "ipython",
    "version": 3
   },
   "file_extension": ".py",
   "mimetype": "text/x-python",
   "name": "python",
   "nbconvert_exporter": "python",
   "pygments_lexer": "ipython3",
   "version": "3.12.0"
  }
 },
 "nbformat": 4,
 "nbformat_minor": 2
}
